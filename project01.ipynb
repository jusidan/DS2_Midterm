{
 "cells": [
  {
   "cell_type": "code",
   "execution_count": 1,
   "metadata": {
    "deletable": false,
    "editable": false
   },
   "outputs": [],
   "source": [
    "# Initialize Otter\n",
    "import otter\n",
    "grader = otter.Notebook(\"project01.ipynb\")"
   ]
  },
  {
   "cell_type": "markdown",
   "metadata": {
    "id": "H2JUKJVsa6qu"
   },
   "source": [
    "# Project 1: Cardiovascular Disease: Causes, Treatment, and Prevention"
   ]
  },
  {
   "cell_type": "markdown",
   "metadata": {
    "id": "xCkkkIKua6qu"
   },
   "source": [
    "In this project, you will investigate the major causes of death in the world: cardiovascular disease! "
   ]
  },
  {
   "cell_type": "code",
   "execution_count": 2,
   "metadata": {
    "id": "bhhcIerJa6qv"
   },
   "outputs": [],
   "source": [
    "from datascience import *\n",
    "import numpy as np\n",
    "\n",
    "%matplotlib inline\n",
    "import matplotlib.pyplot as plots\n",
    "plots.style.use('fivethirtyeight')\n",
    "np.set_printoptions(legacy='1.13')\n",
    "\n",
    "import otter\n",
    "grader = otter.Notebook()\n"
   ]
  },
  {
   "cell_type": "markdown",
   "metadata": {
    "id": "OPKl0zOGa6qw"
   },
   "source": [
    "In the following analysis, we will investigate the world's most dangerous killer: Cardiovascular Disease. Your investigation will take you across decades of medical research, and you'll look at multiple causes and effects across four different studies."
   ]
  },
  {
   "cell_type": "markdown",
   "metadata": {
    "id": "JN3y3EaDa6qw"
   },
   "source": [
    "Here is a roadmap for this project:\n",
    "\n",
    "* In Part 1, we'll investigate the major causes of death in the world during the past century (from 1900 to 2015).\n",
    "* In Part 2, we'll look at data from the Framingham Heart Study, an observational study into cardiovascular health.\n",
    "* In Part 3, we'll examine the effect that hormone replacement therapy has on the risk of coronary heart disease for post-menopausal women using data from the Nurses' Heart Study and Heart and Estrogen-Progestin Replacement Study.\n",
    "* In Part 4, we'll explore the effect that the consumption of saturated fats has on cardiovascular death rates using data from the National Heart-Diet Study"
   ]
  },
  {
   "cell_type": "markdown",
   "metadata": {
    "id": "Qo_MYtDma6qw"
   },
   "source": [
    "## Part 1: Causes of Death "
   ]
  },
  {
   "cell_type": "markdown",
   "metadata": {
    "id": "AHOdOPJaa6qw"
   },
   "source": [
    "In order to get a better idea of how we can most effectively prevent deaths, we need to first figure out what the major causes of death are. Run the following cell to read in and view the `causes_of_death` table, which documents the death rate for major causes of deaths over the last century (1900 until 2015)."
   ]
  },
  {
   "cell_type": "code",
   "execution_count": 3,
   "metadata": {
    "id": "25gjE2VOa6qx",
    "scrolled": true
   },
   "outputs": [
    {
     "data": {
      "text/html": [
       "<table border=\"1\" class=\"dataframe\">\n",
       "    <thead>\n",
       "        <tr>\n",
       "            <th>Year</th> <th>Cause</th> <th>Age Adjusted Death Rate</th>\n",
       "        </tr>\n",
       "    </thead>\n",
       "    <tbody>\n",
       "        <tr>\n",
       "            <td>2015</td> <td>Heart Disease          </td> <td>168.5                  </td>\n",
       "        </tr>\n",
       "        <tr>\n",
       "            <td>2015</td> <td>Cancer                 </td> <td>158.5                  </td>\n",
       "        </tr>\n",
       "        <tr>\n",
       "            <td>2015</td> <td>Stroke                 </td> <td>37.6                   </td>\n",
       "        </tr>\n",
       "        <tr>\n",
       "            <td>2015</td> <td>Accidents              </td> <td>43.2                   </td>\n",
       "        </tr>\n",
       "        <tr>\n",
       "            <td>2015</td> <td>Influenza and Pneumonia</td> <td>15.2                   </td>\n",
       "        </tr>\n",
       "    </tbody>\n",
       "</table>\n",
       "<p>... (575 rows omitted)</p>"
      ],
      "text/plain": [
       "<IPython.core.display.HTML object>"
      ]
     },
     "metadata": {},
     "output_type": "display_data"
    }
   ],
   "source": [
    "causes_of_death = Table.read_table('data/causes_of_death.csv')\n",
    "causes_of_death.show(5)"
   ]
  },
  {
   "cell_type": "markdown",
   "metadata": {
    "id": "dreYK5h2a6qx"
   },
   "source": [
    "Each entry in the column **Age Adjusted Death Rate** is a death rate for a specific **Year** and **Cause** of death. \n",
    "\n",
    "If we look at unadjusted data, the age distributions of each sample will influence death rates. In an older population, we would expect death rates to be higher for all causes since old age is associated with higher risk of death. To compare death rates without worrying about differences in the demographics of our populations, we adjust the data for age.\n",
    "\n",
    "The **Age Adjusted** specification in the death rate column tells us that the values shown are the death rates that would have existed if the population under study in a specific year had the same age distribution as the \"standard\" population, a baseline. \n",
    "\n",
    "You aren't responsible for knowing how to do this adjustment, but should understand why we adjust for age and what the consequences of working with unadjusted data would be. "
   ]
  },
  {
   "cell_type": "markdown",
   "metadata": {
    "deletable": false,
    "editable": false,
    "id": "7Z67Nj1ya6qy"
   },
   "source": [
    "**Question 1:** What are all the different causes of death in this dataset? Assign an array of all the unique causes of death to `all_unique_causes`.\n",
    "\n",
    "\n",
    "\n",
    "<!--\n",
    "BEGIN QUESTION\n",
    "points: 2\n",
    "name: q1_1\n",
    "manual: false\n",
    "-->"
   ]
  },
  {
   "cell_type": "code",
   "execution_count": 4,
   "metadata": {
    "id": "UGhK0BJQa6qy",
    "manual_problem_id": "part_1_unique_causes",
    "scrolled": true
   },
   "outputs": [
    {
     "data": {
      "text/plain": [
       "['Accidents', 'Cancer', 'Heart Disease', 'Influenza and Pneumonia', 'Stroke']"
      ]
     },
     "execution_count": 4,
     "metadata": {},
     "output_type": "execute_result"
    }
   ],
   "source": [
    "all_unique_causes = causes_of_death.group(\"Cause\").column(\"Cause\")\n",
    "sorted(all_unique_causes)"
   ]
  },
  {
   "cell_type": "code",
   "execution_count": 5,
   "metadata": {
    "deletable": false,
    "editable": false,
    "scrolled": true
   },
   "outputs": [
    {
     "data": {
      "text/html": [
       "\n",
       "    <p><strong>q1_1</strong> passed!</p>\n",
       "    "
      ],
      "text/plain": [
       "q1_1 passed!"
      ]
     },
     "execution_count": 5,
     "metadata": {},
     "output_type": "execute_result"
    }
   ],
   "source": [
    "grader.check(\"q1_1\")"
   ]
  },
  {
   "cell_type": "markdown",
   "metadata": {
    "deletable": false,
    "editable": false,
    "id": "DEvSjZa8a6qy"
   },
   "source": [
    "**Question 2:** We would like to plot the death rate for each disease over time. To do so, we must create a table with one column for each cause and one row for each year.\n",
    "\n",
    "Create a table called `causes_for_plotting`. It should have one column called `Year`, and then a column with age-adjusted death rates for each of the causes you found in Question 1. There should be as many of these columns in `causes_for_plotting` as there are causes in Question 1.\n",
    "\n",
    "*Hint*: Use [`pivot`](http://data8.org/datascience/_autosummary/datascience.tables.Table.pivot.html?highlight=aggregation), and think about how the `first` function might be useful in getting the **Age Adjusted Death Rate** for each cause and year combination.\n",
    "\n",
    "<!--\n",
    "BEGIN QUESTION\n",
    "points: 2\n",
    "name: q1_2\n",
    "manual: false\n",
    "-->"
   ]
  },
  {
   "cell_type": "code",
   "execution_count": 6,
   "metadata": {
    "id": "_jwgcLema6qz"
   },
   "outputs": [],
   "source": [
    "# This function may be useful for Question 2.\n",
    "def first(x):\n",
    "    return x.item(0)"
   ]
  },
  {
   "cell_type": "code",
   "execution_count": 11,
   "metadata": {
    "for_assignment_type": "student",
    "id": "Ur461Eufa6qz",
    "manual_problem_id": "part_1_plot_causes",
    "scrolled": true
   },
   "outputs": [
    {
     "data": {
      "text/html": [
       "<table border=\"1\" class=\"dataframe\">\n",
       "    <thead>\n",
       "        <tr>\n",
       "            <th>Year</th> <th>Accidents</th> <th>Cancer</th> <th>Heart Disease</th> <th>Influenza and Pneumonia</th> <th>Stroke</th>\n",
       "        </tr>\n",
       "    </thead>\n",
       "    <tbody>\n",
       "        <tr>\n",
       "            <td>1900</td> <td>90.3     </td> <td>114.8 </td> <td>265.4        </td> <td>297.5                  </td> <td>244.2 </td>\n",
       "        </tr>\n",
       "        <tr>\n",
       "            <td>1901</td> <td>109.3    </td> <td>118.1 </td> <td>272.6        </td> <td>312.9                  </td> <td>243.6 </td>\n",
       "        </tr>\n",
       "        <tr>\n",
       "            <td>1902</td> <td>93.6     </td> <td>119.7 </td> <td>285.2        </td> <td>219.3                  </td> <td>237.8 </td>\n",
       "        </tr>\n",
       "        <tr>\n",
       "            <td>1903</td> <td>106.9    </td> <td>125.2 </td> <td>304.5        </td> <td>251.1                  </td> <td>244.6 </td>\n",
       "        </tr>\n",
       "        <tr>\n",
       "            <td>1904</td> <td>112.8    </td> <td>127.9 </td> <td>331.5        </td> <td>291.2                  </td> <td>255.2 </td>\n",
       "        </tr>\n",
       "    </tbody>\n",
       "</table>\n",
       "<p>... (111 rows omitted)</p>"
      ],
      "text/plain": [
       "<IPython.core.display.HTML object>"
      ]
     },
     "metadata": {},
     "output_type": "display_data"
    }
   ],
   "source": [
    "x = causes_of_death.group(\"Year\")\n",
    "causes_for_plotting = causes_of_death.pivot(\"Cause\", \"Year\", values= \"Age Adjusted Death Rate\",collect= np.sum)\n",
    "causes_for_plotting.show(5)"
   ]
  },
  {
   "cell_type": "markdown",
   "metadata": {
    "id": "AKNnX6hza6qz"
   },
   "source": [
    "Let's take a look at how age-adjusted death rates have changed across different causes over time. Run the cell below to compare Heart Disease (a chronic disease) and Influenza and Pneumonia (infectious diseases)."
   ]
  },
  {
   "cell_type": "code",
   "execution_count": 12,
   "metadata": {
    "id": "CHLJabNIa6qz"
   },
   "outputs": [
    {
     "data": {
      "image/png": "[encoded data removed]",
      "text/plain": [
       "<Figure size 432x432 with 1 Axes>"
      ]
     },
     "metadata": {},
     "output_type": "display_data"
    }
   ],
   "source": [
    "causes_for_plotting.select('Year', \"Heart Disease\", \"Influenza and Pneumonia\").plot('Year')"
   ]
  },
  {
   "cell_type": "markdown",
   "metadata": {
    "deletable": false,
    "editable": false,
    "id": "j8ksyguua6qz"
   },
   "source": [
    "**Question 3:** Beginning in 1900 and continuing until 1950, we observe that death rates for Influenza and Pneumonia decrease while death rates for Heart Disease increase. What might have caused this shift?\n",
    "\n",
    "Assign `disease_trend_explanation` to an array of integers that correspond to possible explanations for these trends.\n",
    "\n",
    "1. People are living longer, allowing more time for chronic conditions to develop. \n",
    "2. A cure has not been discovered for influenza, so people are still dying at high rates from the flu.\n",
    "3. Improvements in sanitation, hygiene, and nutrition have reduced the transmission of viruses and bacteria that cause infectious diseases.\n",
    "4. People are more active, putting them at lower risk for conditions like heart disease and diabetes.\n",
    "5. Widespread adoption of vaccinations has reduced rates of infectious disease.\n",
    "6. The medical community has became more aware of chronic conditions, leading to more people being diagnosed with heart disease.\n",
    "\n",
    "*Hint:* Consider what contributes to the development of these diseases. What decreases the transmission of infections? Why do we see more lifestyle-related conditions like heart disease?\n",
    "\n",
    "<!--\n",
    "BEGIN QUESTION\n",
    "name: q1_3\n",
    "points: 2\n",
    "manual: false\n",
    "-->"
   ]
  },
  {
   "cell_type": "code",
   "execution_count": null,
   "metadata": {
    "id": "1x4GE6H6a6q0"
   },
   "outputs": [],
   "source": [
    "disease_trend_explanation = ...\n",
    "disease_trend_explanation"
   ]
  },
  {
   "cell_type": "code",
   "execution_count": null,
   "metadata": {
    "deletable": false,
    "editable": false
   },
   "outputs": [],
   "source": [
    "grader.check(\"q1_3\")"
   ]
  },
  {
   "cell_type": "markdown",
   "metadata": {
    "id": "i3BQGcv9a6q0"
   },
   "source": [
    "This phenomenon is known as the epidemiological transition - in developed countries, the severity of infectious disease has decreased, but chronic disease has become more widespread. Coronary heart disease (CHD) is one of the most deadly chronic diseases that has emerged in the past century, and more healthcare resources have been invested to studying it.\n",
    "\n",
    "Run the cell below to see what a plot of the data would have looked like had you been living in 1950. CHD was the leading cause of death and had killed millions of people without warning. It had become twice as lethal in just a few decades and people didn't understand why this was happening."
   ]
  },
  {
   "cell_type": "code",
   "execution_count": null,
   "metadata": {
    "id": "OAI-uKxQa6q0"
   },
   "outputs": [],
   "source": [
    "# Do not change this line\n",
    "causes_for_plotting.where('Year', are.below_or_equal_to(1950)).plot('Year')"
   ]
  },
  {
   "cell_type": "markdown",
   "metadata": {
    "id": "jmTpriFka6q0"
   },
   "source": [
    "The view from 2016 looks a lot less scary, however, since we know it eventually went down. The decline in CHD deaths is one of the greatest public health triumphs of the last half century. That decline represents many millions of saved lives, and it was not inevitable. The Framingham Heart Study, in particular, was the first to discover the associations between heart disease and risk factors like smoking, high cholesterol, high blood pressure, obesity, and lack of exercise."
   ]
  },
  {
   "cell_type": "code",
   "execution_count": null,
   "metadata": {
    "for_assignment_type": "solution",
    "id": "h4IdoxGTa6q0",
    "scrolled": true
   },
   "outputs": [],
   "source": [
    "# Do not change this line\n",
    "causes_for_plotting.plot('Year')"
   ]
  },
  {
   "cell_type": "markdown",
   "metadata": {
    "id": "efT35jaxa6q1"
   },
   "source": [
    "Let's examine the graph above. You'll see that in the 1960s, the death rate due to heart disease steadily declines. Up until then, the effects of smoking, blood pressure, and diet on the cardiovascular system were unknown to researchers. Once these factors started to be noticed, doctors were able recommend a lifestyle change for at-risk patients to prevent heart attacks and heart problems.\n",
    "\n",
    "Note, however, that the death rate for heart disease is still higher than the death rates of all other causes. Even though the death rate is starkly decreasing, there's still a lot we don't understand about the causes (both direct and indirect) of heart disease."
   ]
  },
  {
   "cell_type": "markdown",
   "metadata": {
    "id": "LZZI30Kka6q1"
   },
   "source": [
    "## Part 2: The Framingham Heart Study"
   ]
  },
  {
   "cell_type": "markdown",
   "metadata": {
    "id": "305LOwSra6q1"
   },
   "source": [
    "The [Framingham Heart Study](https://en.wikipedia.org/wiki/Framingham_Heart_Study) is an observational study of cardiovascular health. The initial study followed over 5,000 volunteers for several decades, and followup studies even looked at their descendants. In this section, we'll investigate some of the study's key findings about cholesterol and heart disease.\n",
    "\n",
    "Run the cell below to examine data for 3842 subjects from the first wave of the study, collected in 1956."
   ]
  },
  {
   "cell_type": "code",
   "execution_count": null,
   "metadata": {
    "id": "9iyiNq21a6q1"
   },
   "outputs": [],
   "source": [
    "framingham = Table.read_table('data/framingham.csv')\n",
    "framingham"
   ]
  },
  {
   "cell_type": "markdown",
   "metadata": {
    "id": "lpCFjoGZa6q2"
   },
   "source": [
    "Each row contains data from one subject. The first seven columns describe the subject at the time of their initial medical exam at the start of the study. The last column, `ANYCHD`, tells us whether the subject developed some form of heart disease at any point after the start of the study.\n",
    "\n",
    "You may have noticed that the table contains fewer rows than subjects in the original study - we are excluding subjects who already had heart disease or had missing data."
   ]
  },
  {
   "cell_type": "markdown",
   "metadata": {
    "id": "83gEbxffa6q2"
   },
   "source": [
    "### Section 1: Diabetes and the Population"
   ]
  },
  {
   "cell_type": "markdown",
   "metadata": {
    "id": "b72hQanea6q2"
   },
   "source": [
    "Before we begin our investigation into cholesterol, we'll first look at some limitations of this dataset. In particular, we will investigate ways in which this is or isn't a representative sample of the population by examining the number of subjects with diabetes.\n",
    "\n",
    "[According to the CDC](https://www.cdc.gov/diabetes/statistics/slides/long_term_trends.pdf), the prevalence of diagnosed diabetes (i.e., the percentage of the population who have it) in the U.S. around this time was 0.93%. We are going to conduct a hypothesis test with the following null and alternative hypotheses:\n",
    "\n",
    "**Null Hypothesis**: The probability that a participant within the Framingham Study has diabetes is equivalent to the prevalence of diagnosed diabetes within the population. (i.e., any difference is due to chance).\n",
    "\n",
    "**Alternative Hypothesis**: The probability that a participant within the Framingham Study has diabetes is different than the prevalence of diagnosed diabetes within the population.\n",
    "\n",
    "We are going to use the absolute distance between the observed prevalence and the true population prevalence as our test statistic. The column `DIABETES` in the `framingham` table contains a 1 for subjects with diabetes and a `0` for those without."
   ]
  },
  {
   "cell_type": "markdown",
   "metadata": {
    "deletable": false,
    "editable": false,
    "id": "rG91sDKfa6q2"
   },
   "source": [
    "**Question 1**: What is the observed value of the statistic in the data from the Framingham Study? You should convert prevalence values to proportions before calculating the statistic!\n",
    "\n",
    "<!--\n",
    "BEGIN QUESTION\n",
    "name: q2_1_1\n",
    "points: 2\n",
    "manual: false\n",
    "-->"
   ]
  },
  {
   "cell_type": "code",
   "execution_count": null,
   "metadata": {
    "for_assignment_type": "solution",
    "id": "FVZ3yHmCa6q2"
   },
   "outputs": [],
   "source": [
    "observed_diabetes_distance = ...\n",
    "observed_diabetes_distance"
   ]
  },
  {
   "cell_type": "code",
   "execution_count": null,
   "metadata": {
    "deletable": false,
    "editable": false
   },
   "outputs": [],
   "source": [
    "grader.check(\"q2_1_1\")"
   ]
  },
  {
   "cell_type": "markdown",
   "metadata": {
    "deletable": false,
    "editable": false,
    "id": "gbg-I8una6q3"
   },
   "source": [
    "**Question 2**: Define the function `diabetes_statistic` which should return exactly one simulated statistic of the absolute distance between the observed prevalence and the true population prevalence under the null hypothesis. Make sure that your simulated sample is the same size as your original sample.\n",
    "\n",
    "*Hint:* The array `diabetes_proportions` contains the proportions of the population without and with diabetes, respectively.\n",
    "\n",
    "<!--\n",
    "BEGIN QUESTION\n",
    "name: q2_1_2\n",
    "points: 2\n",
    "manual: false\n",
    "-->"
   ]
  },
  {
   "cell_type": "code",
   "execution_count": null,
   "metadata": {
    "id": "gOF5u5Pta6q3"
   },
   "outputs": [],
   "source": [
    "diabetes_proportions = make_array(.9907, .0093)\n",
    "\n",
    "def diabetes_statistic():\n",
    "    ..."
   ]
  },
  {
   "cell_type": "code",
   "execution_count": null,
   "metadata": {
    "deletable": false,
    "editable": false
   },
   "outputs": [],
   "source": [
    "grader.check(\"q2_1_2\")"
   ]
  },
  {
   "cell_type": "markdown",
   "metadata": {
    "deletable": false,
    "editable": false,
    "id": "zkZA6Ym4a6q3"
   },
   "source": [
    "**Question 3**:  Complete the following code to simulate 5000 values of the statistic under the null hypothesis.\n",
    "\n",
    "<!--\n",
    "BEGIN QUESTION\n",
    "name: q2_1_3\n",
    "points: 1\n",
    "manual: false\n",
    "-->"
   ]
  },
  {
   "cell_type": "code",
   "execution_count": null,
   "metadata": {
    "for_assignment_type": "solution",
    "id": "IiiNOQ3ta6q3"
   },
   "outputs": [],
   "source": [
    "diabetes_simulated_stats = make_array()\n",
    "\n",
    "for i in np.arange(5000): \n",
    "    ...\n",
    "\n",
    "diabetes_simulated_stats"
   ]
  },
  {
   "cell_type": "code",
   "execution_count": null,
   "metadata": {
    "deletable": false,
    "editable": false
   },
   "outputs": [],
   "source": [
    "grader.check(\"q2_1_3\")"
   ]
  },
  {
   "cell_type": "markdown",
   "metadata": {
    "deletable": false,
    "editable": false,
    "id": "U9_m2LTRa6q4"
   },
   "source": [
    "<!-- BEGIN QUESTION -->\n",
    "\n",
    "**Question 4**: Run the following cell to generate a histogram of the simulated values of your statistic, along with the observed value.\n",
    "\n",
    "*If you're not sure if your histogram is correct, think about how we're generating the sample statistics under the null, and what those statistics will look like*\n",
    "\n",
    "*Make sure to run the cell that draws the histogram, since it will be graded.*\n",
    "\n",
    "<!--\n",
    "BEGIN QUESTION\n",
    "name: q2_1_4\n",
    "points: 1\n",
    "manual: true\n",
    "-->\n",
    "<!-- EXPORT TO PDF -->"
   ]
  },
  {
   "cell_type": "code",
   "execution_count": null,
   "metadata": {
    "export_pdf": true,
    "id": "vaqTZRe-a6q4"
   },
   "outputs": [],
   "source": [
    "Table().with_column('Simulated distance to true prevalence', diabetes_simulated_stats).hist()\n",
    "plots.scatter(observed_diabetes_distance, 0, color='red', s=30);"
   ]
  },
  {
   "cell_type": "markdown",
   "metadata": {
    "deletable": false,
    "editable": false,
    "id": "BgIwxftNa6q4"
   },
   "source": [
    "<!-- END QUESTION -->\n",
    "\n",
    "<!-- BEGIN QUESTION -->\n",
    "\n",
    "**Question 5**: Based on the historgram above, should you reject the null hypothesis?\n",
    "\n",
    "<!--\n",
    "BEGIN QUESTION\n",
    "name: q2_1_5\n",
    "points: 1\n",
    "manual: true\n",
    "-->\n",
    "<!-- EXPORT TO PDF -->"
   ]
  },
  {
   "cell_type": "markdown",
   "metadata": {},
   "source": [
    "_Type your answer here, replacing this text._"
   ]
  },
  {
   "cell_type": "markdown",
   "metadata": {
    "deletable": false,
    "editable": false,
    "id": "QsB4kqaJa6q4"
   },
   "source": [
    "<!-- END QUESTION -->\n",
    "\n",
    "**Question 6**: Why might there be a difference between the population and the sample from the Framingham Study? Assuming that all these statements are true - what are possible explanations for the higher diabetes prevalence in the Framingham population?\n",
    "\n",
    "Assign the name `framingham_diabetes_explanations` to an array of the following explanations that **are consistent** with the trends we observe in the data and our hypothesis test results. \n",
    "\n",
    "1. Diabetes was under-diagnosed in the population (i.e., there were a lot of people in the population who had diabetes but weren't diagnosed). By contrast, the Framingham participants were less likely to go undiagnosed because they had regular medical examinations as part of the study.\n",
    "2. The relatively wealthy population in Framingham ate a luxurious diet high in sugar (high-sugar diets are a known cause of diabetes).\n",
    "3. The Framingham Study subjects were older on average than the general population, and therefore more likely to have diabetes.\n",
    "\n",
    "<!--\n",
    "BEGIN QUESTION\n",
    "name: q2_1_6\n",
    "points: 2\n",
    "manual: false\n",
    "-->"
   ]
  },
  {
   "cell_type": "code",
   "execution_count": null,
   "metadata": {
    "id": "w86gukq8a6q4",
    "manual_problem_id": "part_2_explanations"
   },
   "outputs": [],
   "source": [
    "framingham_diabetes_explanations = ...\n",
    "framingham_diabetes_explanations"
   ]
  },
  {
   "cell_type": "code",
   "execution_count": null,
   "metadata": {
    "deletable": false,
    "editable": false
   },
   "outputs": [],
   "source": [
    "grader.check(\"q2_1_6\")"
   ]
  },
  {
   "cell_type": "markdown",
   "metadata": {
    "id": "Bqm0Z9x3a6q5"
   },
   "source": [
    "In real-world studies, getting a truly representative random sample of the population is often incredibly difficult. Even just to accurately represent all Americans, a truly random sample would need to examine people across geographical, socioeconomic, community, and class lines (just to name a few). For a study like this, scientists would also need to make sure the medical exams were standardized and consistent across the different people being examined. In other words, there's a tradeoff between taking a more representative random sample and the cost of collecting more information from each person in the sample.\n",
    "\n",
    "The Framingham study collected high-quality medical data from its subjects, even if the subjects may not be a perfect representation of the population of all Americans. This is a common issue that data scientists face: while the available data aren't perfect, they're the best we have. The Framingham study is generally considered the best in its class, so we'll continue working with it while keeping its limitations in mind.\n",
    "\n",
    "(For more on representation in medical study samples, you can read these recent articles from [NPR](https://www.npr.org/sections/health-shots/2015/12/16/459666750/clinical-trials-still-dont-reflect-the-diversity-of-america) and [Scientific American](https://www.scientificamerican.com/article/clinical-trials-have-far-too-little-racial-and-ethnic-diversity/))."
   ]
  },
  {
   "cell_type": "markdown",
   "metadata": {
    "id": "rQL5r1lWa6q5"
   },
   "source": [
    "### Section 2: Cholesterol and Heart Disease"
   ]
  },
  {
   "cell_type": "markdown",
   "metadata": {
    "id": "oWR2jamka6q5"
   },
   "source": [
    "In the remainder of this question, we are going to examine one of the main findings of the Framingham study: an association between serum cholesterol (i.e., how much cholesterol is in someone's blood) and whether or not that person develops heart disease.\n",
    "\n",
    "We'll use the following null and alternative hypotheses:\n",
    "\n",
    "**Null Hypothesis:** In the population, the distribution of cholesterol levels among those who get heart disease is the same as the distribution of cholesterol levels\n",
    "among those who do not.\n",
    "\n",
    "**Alternative Hypothesis:** The cholesterol levels of people in the population who get\n",
    "heart disease are higher, on average, than the cholesterol level of people who do not."
   ]
  },
  {
   "cell_type": "markdown",
   "metadata": {
    "deletable": false,
    "editable": false,
    "id": "MdChzcMKa6q5"
   },
   "source": [
    "**Question 1:** From the provided Null and Alternative Hypotheses, does it seem reasonable to use A/B Testing to determine which model is more consistent? Assign the variable `ab_reasonable` to `True` if it seems reasonable and `False` otherwise.\n",
    "\n",
    "<!--\n",
    "BEGIN QUESTION\n",
    "name: q2_2_1\n",
    "points: 2\n",
    "manual: false\n",
    "-->"
   ]
  },
  {
   "cell_type": "code",
   "execution_count": null,
   "metadata": {
    "id": "3bVDjKg3a6q5",
    "manual_problem_id": "part_2_reasonable_test"
   },
   "outputs": [],
   "source": [
    "ab_reasonable = ...\n",
    "ab_reasonable"
   ]
  },
  {
   "cell_type": "code",
   "execution_count": null,
   "metadata": {
    "deletable": false,
    "editable": false
   },
   "outputs": [],
   "source": [
    "grader.check(\"q2_2_1\")"
   ]
  },
  {
   "cell_type": "markdown",
   "metadata": {
    "deletable": false,
    "editable": false,
    "id": "qu9PMpGqa6q5"
   },
   "source": [
    "<!-- BEGIN QUESTION -->\n",
    "\n",
    "**Question 2:** Now that we have a null hypothesis, we need a test statistic. Explain and justify your choice of test statistic in two sentences or less.\n",
    "\n",
    "*Hint*: Remember that larger values of the test statistic should favor the alternative over the null.\n",
    "\n",
    "<!--\n",
    "BEGIN QUESTION\n",
    "name: q2_2_2\n",
    "points: 1\n",
    "manual: true\n",
    "-->\n",
    "<!-- EXPORT TO PDF -->"
   ]
  },
  {
   "cell_type": "markdown",
   "metadata": {},
   "source": [
    "_Type your answer here, replacing this text._"
   ]
  },
  {
   "cell_type": "markdown",
   "metadata": {
    "deletable": false,
    "editable": false,
    "id": "KgKPLgQDa6q6"
   },
   "source": [
    "<!-- END QUESTION -->\n",
    "\n",
    "**Question 3**: Write a function that computes your test statistic. It should take a table with two columns, `TOTCHOL` (total serum cholesterol) and `ANYCHD` (whether or not the person had coronary heart disease), and compute the test statistic you described above. \n",
    "\n",
    "Use the function you defined to compute the observed test statistic, and assign it to the name `framingham_observed_statistic`.\n",
    "\n",
    "<!--\n",
    "BEGIN QUESTION\n",
    "name: q2_2_3\n",
    "points: 3\n",
    "manual: false\n",
    "-->"
   ]
  },
  {
   "cell_type": "code",
   "execution_count": null,
   "metadata": {
    "for_assignment_type": "solution",
    "id": "LDJJvb6aa6q6"
   },
   "outputs": [],
   "source": [
    "def compute_framingham_test_statistic(tbl):\n",
    "    ...\n",
    "    \n",
    "framingham_observed_statistic = ...\n",
    "framingham_observed_statistic"
   ]
  },
  {
   "cell_type": "code",
   "execution_count": null,
   "metadata": {
    "deletable": false,
    "editable": false
   },
   "outputs": [],
   "source": [
    "grader.check(\"q2_2_3\")"
   ]
  },
  {
   "cell_type": "markdown",
   "metadata": {
    "deletable": false,
    "editable": false,
    "id": "pY_bqAcVa6q6"
   },
   "source": [
    "Now that we have defined hypotheses and a test statistic, we are ready to conduct a hypothesis test. We'll start by defining a function to simulate the test statistic under the null hypothesis, and then use that function 1000 times to understand the distribution under the null hypothesis.\n",
    "\n",
    "**Question 4**: Write a function to simulate the test statistic under the null hypothesis. \n",
    "\n",
    "The `simulate_framingham_null` function should simulate the null hypothesis once (not 1000 times) and return the value of the test statistic for that simulated sample.\n",
    "\n",
    "<!--\n",
    "BEGIN QUESTION\n",
    "name: q2_2_4\n",
    "points: 2\n",
    "manual: false\n",
    "-->"
   ]
  },
  {
   "cell_type": "code",
   "execution_count": null,
   "metadata": {
    "for_assignment_type": "solution",
    "id": "TCN-_XRZa6q6"
   },
   "outputs": [],
   "source": [
    "def simulate_framingham_null():\n",
    "    ...\n",
    "    \n",
    "# Run your function once to make sure that it works.\n",
    "simulate_framingham_null()"
   ]
  },
  {
   "cell_type": "code",
   "execution_count": null,
   "metadata": {
    "deletable": false,
    "editable": false
   },
   "outputs": [],
   "source": [
    "grader.check(\"q2_2_4\")"
   ]
  },
  {
   "cell_type": "markdown",
   "metadata": {
    "deletable": false,
    "editable": false,
    "id": "oHX6x-jxa6q6"
   },
   "source": [
    "**Question 5**: Fill in the blanks below to complete the simulation for the hypothesis test. Your simulation should compute 100 values of the test statistic under the null hypothesis and store the result in the array `framingham_simulated_stats`.\n",
    "\n",
    "*Hint*: You should use the function you wrote above in Question 4.\n",
    "\n",
    "*Note*: Warning: running should only take a couple minutes at max!  We encourage you to check your `simulate_framingham_null()` code to make sure it works correctly before running this cell. \n",
    "\n",
    "<!--\n",
    "BEGIN QUESTION\n",
    "name: q2_2_5\n",
    "points: 1\n",
    "manual: false\n",
    "-->"
   ]
  },
  {
   "cell_type": "code",
   "execution_count": null,
   "metadata": {
    "for_assignment_type": "solution",
    "id": "kBOJVAQBa6q7"
   },
   "outputs": [],
   "source": [
    "framingham_simulated_stats = make_array()\n",
    "\n",
    "for i in np.arange(100):\n",
    "    ..."
   ]
  },
  {
   "cell_type": "code",
   "execution_count": null,
   "metadata": {
    "deletable": false,
    "editable": false
   },
   "outputs": [],
   "source": [
    "grader.check(\"q2_2_5\")"
   ]
  },
  {
   "cell_type": "markdown",
   "metadata": {
    "deletable": false,
    "editable": false,
    "id": "S8Dn8w-la6q7"
   },
   "source": [
    "<!-- BEGIN QUESTION -->\n",
    "\n",
    "**Question 6:** The following line will plot the histogram of the simulated test statistics, as well as a point for the observed test statistic. Make sure to run it, as it will be graded. \n",
    "\n",
    "<!--\n",
    "BEGIN QUESTION\n",
    "name: q2_2_6\n",
    "points: 1\n",
    "manual: true\n",
    "-->\n",
    "<!-- EXPORT TO PDF -->"
   ]
  },
  {
   "cell_type": "code",
   "execution_count": null,
   "metadata": {
    "export_pdf": true,
    "id": "8XXvPFrSa6q7",
    "manual_problem_id": "disease_q_4_1_6"
   },
   "outputs": [],
   "source": [
    "Table().with_column('Simulated statistics', framingham_simulated_stats).hist()\n",
    "plots.scatter(framingham_observed_statistic, 0, color='red', s=30);"
   ]
  },
  {
   "cell_type": "markdown",
   "metadata": {
    "deletable": false,
    "editable": false,
    "id": "IHE2x72ba6q7"
   },
   "source": [
    "<!-- END QUESTION -->\n",
    "\n",
    "**Question 7**: Compute the p-value for this hypothesis test, and assign it to the name `framingham_p_value`.\n",
    "\n",
    "*Hint*: One of the key findings of the Framingham study was a strong association between cholesterol levels and heart disease. If your p-value doesn't match up with this finding, you may want to take another look at your test statistic and/or your simulation.\n",
    "\n",
    "<!--\n",
    "BEGIN QUESTION\n",
    "name: q2_2_7\n",
    "points: 1\n",
    "manual: false\n",
    "-->"
   ]
  },
  {
   "cell_type": "code",
   "execution_count": null,
   "metadata": {
    "for_assignment_type": "solution",
    "id": "0D1Spaz2a6q7"
   },
   "outputs": [],
   "source": [
    "framingham_p_value = ...\n",
    "framingham_p_value"
   ]
  },
  {
   "cell_type": "code",
   "execution_count": null,
   "metadata": {
    "deletable": false,
    "editable": false
   },
   "outputs": [],
   "source": [
    "grader.check(\"q2_2_7\")"
   ]
  },
  {
   "cell_type": "markdown",
   "metadata": {
    "deletable": false,
    "editable": false,
    "id": "U2DCFlaBa6q8"
   },
   "source": [
    "<!-- BEGIN QUESTION -->\n",
    "\n",
    "**Question 8**: Despite the Framingham Heart Study's well-deserved reputation as a well-conducted and rigorous study, it has some major limitations. Give one specific reason why it can't be used to say that high cholesterol *causes* heart disease.\n",
    "\n",
    "<!--\n",
    "BEGIN QUESTION\n",
    "name: q2_2_9\n",
    "points: 1\n",
    "manual: true\n",
    "-->\n",
    "<!-- EXPORT TO PDF -->"
   ]
  },
  {
   "cell_type": "markdown",
   "metadata": {
    "export_pdf": true,
    "id": "qNPHDXTfa6q8",
    "manual_problem_id": "disease_2_1"
   },
   "source": [
    "*Write your answer here, replacing this text.*"
   ]
  },
  {
   "cell_type": "markdown",
   "metadata": {
    "id": "EfLJ3dToa6q8"
   },
   "source": [
    "Similar studies from the 1950s found positive associations between diets high in saturated fat, high cholesterol, and incidence of heart disease. In 1962, the U.S. Surgeon General said:\n",
    "\n",
    "*\"Although there is evidence that diet and dietary habits may be implicated in the development of coronary heart disease and may be significant in its prevention or control, at present our only research evidence is associative and not conclusive.\"*"
   ]
  },
  {
   "cell_type": "markdown",
   "metadata": {
    "id": "Jzml3kaKa6q8"
   },
   "source": [
    "## Checkpoint 1 (Due 04/28)\n",
    "#### Congratulations, you have reached the first checkpoint! Run the submit cell below to generate the checkpoint submission.\n",
    "To get full credit for this checkpoint, you must pass all the public autograder tests above this cell."
   ]
  },
  {
   "cell_type": "code",
   "execution_count": null,
   "metadata": {
    "id": "M-XQHeq2a6q8"
   },
   "outputs": [],
   "source": []
  },
  {
   "cell_type": "markdown",
   "metadata": {
    "id": "fJ5w4W8La6q8"
   },
   "source": [
    "<!-- END QUESTION -->\n",
    "\n",
    "\n",
    "\n",
    "## Part 3: Hormone Replacement Therapy for Cardiovascular Health"
   ]
  },
  {
   "cell_type": "markdown",
   "metadata": {
    "id": "8StWIZwda6q8"
   },
   "source": [
    "### Section 1: The Nurses' Health Study"
   ]
  },
  {
   "cell_type": "markdown",
   "metadata": {
    "id": "BjtYBoQSa6q8"
   },
   "source": [
    "The Nurses' Health Study (NHS) is another very large observational study which has brought many insights into women's health. It began in 1976 by Dr. Frank Speizer, with questionnaires that were mailed to 121,964 female registered nurses in the United States asking about their medical history, cholesterol and blood pressure, current medications, and so on (one of the benefits of studying nurses is their ability to give reliably accurate answers to these questions). \n",
    "\n",
    "The study's initial focus was on investigating the long-term health effects of oral contraceptives, whose use had become much more widespread in the U.S. during the 1960s, but the focus soon expanded to investigating a wide variety of questions on women's health. The NHS continues to this day, tracking its third generation of nurses in the US.\n",
    "\n",
    "**One of the most consequential early findings from the NHS was about hormone replacement therapy (HRT)**: supplementary estrogen and progesterone for post-menopausal women to relieve side effects of declining hormone levels due to menopause. The NHS found that HRT in postmenopausal women was negatively associated with heart attack risk. In a landmark 1985 paper in the *New England Journal of Medicine* (NEJM), Speizer and his coauthors wrote that\n",
    "> As compared with the risk in women who had never used postmenopausal hormones, the age-adjusted relative risk of coronary disease in those who had ever used them was 0.5 (95 per cent confidence limits, 0.3 and 0.8; P = 0.007)... These data support the hypothesis that the postmenopausal use of estrogen reduces the risk of severe coronary heart disease. [(Stampfer et al., 1985)](https://www.ncbi.nlm.nih.gov/pubmed/4047106)\n",
    "\n",
    "**In other words, the authors are saying that women on HRT are half as likely to suffer a heart attack over a certain time period.** We'll define the term \"relative risk\" later in this section, and we'll also investigate the interpretation of these claims and their statistical basis."
   ]
  },
  {
   "cell_type": "markdown",
   "metadata": {
    "deletable": false,
    "editable": false,
    "id": "Izpvw8YRa6q9"
   },
   "source": [
    "**Question 1** Based on the passage above, which of the following statements can you infer about the Nurses' Health Study? Create an array called `nhs_true_statements` and add integers corresponding to statements you believe are correct (ex: write `nhs_true_statements = make_array(1, 2, 4)` if you think options 1, 2, and 4 are correct)\n",
    "\n",
    "1. The Nurses' Health Study was a controlled experiment with a control and treatment group.\n",
    "2. Hormone replacement therapy is most commonly used by young women.\n",
    "3. The study uses data that was self-reported by nurses for the analysis\n",
    "4. Since only nurses were included in the study, there's a chance that confounding factors influence our dataset.\n",
    "5. The study found that estrogen and progesterone use had an association with CHD rates in post-menopausal women.\n",
    "\n",
    "<!--\n",
    "BEGIN QUESTION\n",
    "points: 0\n",
    "name: q3_1_1\n",
    "manual: false\n",
    "-->"
   ]
  },
  {
   "cell_type": "code",
   "execution_count": null,
   "metadata": {
    "id": "EFqEiYNTa6q9"
   },
   "outputs": [],
   "source": [
    "nhs_true_statements = ...\n",
    "nhs_true_statements"
   ]
  },
  {
   "cell_type": "code",
   "execution_count": null,
   "metadata": {
    "deletable": false,
    "editable": false
   },
   "outputs": [],
   "source": [
    "grader.check(\"q3_1_1\")"
   ]
  },
  {
   "cell_type": "markdown",
   "metadata": {
    "id": "NhC3Kfjua6q9"
   },
   "source": [
    "**The scientists running the NHS wanted to compare post-menopausal women who had taken HRT with post-menopausal women who had never taken HRT, excluding all women who were not post-menopausal or who had previously suffered a heart attack.** This study design complicates the analysis because it creates a variety of reasons why women might drop in and out of the relevant comparison groups."
   ]
  },
  {
   "cell_type": "markdown",
   "metadata": {
    "deletable": false,
    "editable": false,
    "id": "Jxiad7Xsa6q9"
   },
   "source": [
    "**Question 2.** Consider the following events which could occur in the middle of the study period (read the above paragraph carefully first): \n",
    "0. A woman (who has never had a heart attack) was pre-menopausal at the beginning of the study period becomes post-menopausal in the middle of the study period.\n",
    "1. A post-menopausal woman survives a heart attack in the middle of the study period (assume the woman is post-menopausal and had never before had a heart attack).\n",
    "2. A woman dies of cancer in the middle of the study period (assume the woman is post-menopausal and has never had a heart attack).\n",
    "3. A woman who was not on HRT at the beginning of the study period, and had never before taken HRT, begins taking HRT in the middle of the period (assume the woman is post-menopausal and has never had a heart attack).\n",
    "4. A woman who was taking HRT at the beginning of the study period stops taking HRT in the middle of the period (assume the woman is post-menopausal and has never had a heart attack).\n",
    "\n",
    "For each of the events listed above, answer whether they would result in a woman\n",
    "\n",
    "- (`E`) entering the study in the middle, \n",
    "- (`L`) leaving the study in the middle, \n",
    "- (`S`) switching from one comparison group to another in the middle, or \n",
    "- (`N`) none of the above \n",
    "\n",
    "\n",
    "<!--\n",
    "BEGIN QUESTION\n",
    "points: 0\n",
    "name: q3_1_2\n",
    "manual: false\n",
    "-->\n",
    "\n",
    "Assign `event_result` to an array of strings where the *i*th string is a single *capital* letter corresponding to your answer for the *i*th event.\n",
    "\n",
    "For example, an example answer is `event_result = make_array('N', 'E', 'E', 'L', 'E')` where our answer for event 0 is `N`, our answer for event 1 is `E`, our answer for event 2 is `E`, etc."
   ]
  },
  {
   "cell_type": "code",
   "execution_count": null,
   "metadata": {
    "id": "7m_Haxeqa6q9"
   },
   "outputs": [],
   "source": [
    "event_result = ...\n",
    "event_result"
   ]
  },
  {
   "cell_type": "code",
   "execution_count": null,
   "metadata": {
    "deletable": false,
    "editable": false
   },
   "outputs": [],
   "source": [
    "grader.check(\"q3_1_2\")"
   ]
  },
  {
   "cell_type": "markdown",
   "metadata": {
    "id": "H8mdgdZ6a6q-"
   },
   "source": [
    "Because women could (and did) drop into and out of the comparison groups in the middle of the study, it is difficult to make a table like we usually would, with one row per participant. In medical studies, individuals are typically weighted by the *amount of time* that they enrolled in the study. A more convenient sampling unit is a **person-month at risk**, which is one month spent by a particular woman in one of the comparison groups, during which she might or might not suffer a heart attack. Here, \"at risk\" just means the woman is being tracked by the survey in either of the two comparison groups, so that if she had a heart attack it would be counted in our data set.\n",
    "\n",
    "**Example**: The table below tracks the histories of two hypothetical post-menopausal women in a six-month longitudinal study, who both enter the study in January 1978:\n",
    "1. Alice has never been on HRT. She has a heart attack in March and is excluded for the remainder of the study period. \n",
    "2. Beatrice begins taking HRT for the first time in April and stays healthy throughout the study period.\n",
    "\n",
    "| Name     | Month    | HRT | Heart Attack   |                                             \n",
    "|----------|----------|-----|----------------|\n",
    "| Alice    | Jan 1978 |  0  | 0              |\n",
    "| Alice    | Feb 1978 |  0  | 0              |\n",
    "| Alice    | Mar 1978 |  0  | 1              |\n",
    "| Beatrice | Jan 1978 |  0  | 0              | \n",
    "| Beatrice | Feb 1978 |  0  | 0              |\n",
    "| Beatrice | Mar 1978 |  0  | 0              |\n",
    "| Beatrice | Apr 1978 |  1  | 0              |\n",
    "| Beatrice | May 1978 |  1  | 0              |\n",
    "| Beatrice | Jun 1978 |  1  | 0              |\n",
    "\n"
   ]
  },
  {
   "cell_type": "markdown",
   "metadata": {
    "id": "ADtH5oSXa6q-"
   },
   "source": [
    "The probability that a heart attack will happen to a given at-risk person in a given duration of time is called the **hazard rate**. The NHS calculated its effects in terms of the **relative risk**, which is simply the hazard rate for *person-months* in the HRT (Group A) group divided by the hazard rate in the no-HRT (Group B) group.\n",
    "\n",
    "$$\\text{Relative Risk} = \\frac{\\text{Hazard Rate(Treatment Group)}}{\\text{Hazard Rate(Control Group)}}$$\n"
   ]
  },
  {
   "cell_type": "markdown",
   "metadata": {
    "deletable": false,
    "editable": false,
    "id": "zQCrGxcwa6q-"
   },
   "source": [
    "**Question 3.** Complete the following statements, by setting the variable names to the value that correctly fills in the blank.\n",
    "\n",
    "If the hazard rate of the treatment group is greater than the hazard rate of the control group, the relative risk will be `blank1_1` one. This means that individuals in the treatment group are at `blank1_2` risk of having an heart attack compared to those in the control group.\n",
    "\n",
    "If the hazard rate of the treatment group is less than the hazard rate of the control group, the relative risk will be `blank2_1` one. This means that individuals in the treatment group are at `blank2_2` risk of having an heart attack compared to those in the control group.\n",
    "\n",
    "If the hazard rate of the treatment group is equal to the hazard rate of the control group, the relative risk will be `blank3_1` one. This means that individuals in the treatment group are at `blank3_2` risk of having an heart attack compared to those in the control group.\n",
    "\n",
    "`blank1_1`, `blank2_1`, `blank3_1` should be set to one of the following strings: \"less than\", \"equal to\", or \"greater than\"\n",
    "\n",
    "`blank1_2`, `blank2_2`, `blank3_2` should be set to one of the following strings:\"lower\", \"equal\", or \"higher\" \n",
    "\n",
    "<!--\n",
    "BEGIN QUESTION\n",
    "points: 0\n",
    "name: q3_1_3\n",
    "manual: false\n",
    "-->"
   ]
  },
  {
   "cell_type": "code",
   "execution_count": null,
   "metadata": {
    "id": "GuAx5au8a6q-"
   },
   "outputs": [],
   "source": [
    "blank1_1 = ...\n",
    "blank1_2 = ...\n",
    "blank2_1 = ...\n",
    "blank2_2 = ...\n",
    "blank3_1 = ...\n",
    "blank3_2 = ..."
   ]
  },
  {
   "cell_type": "code",
   "execution_count": null,
   "metadata": {
    "deletable": false,
    "editable": false
   },
   "outputs": [],
   "source": [
    "grader.check(\"q3_1_3\")"
   ]
  },
  {
   "cell_type": "markdown",
   "metadata": {
    "id": "bvRaGRPma6q-"
   },
   "source": [
    "Most statistical methods that deal with this type of data assume that we can treat a table like the one above as though it is a sample of independent random draws from a much larger population of person-months at risk in each group. **We will take this assumption for granted throughout the rest of this section.**\n",
    "\n",
    "Instead of *person-months* at risk, the NHS used *person-years* at risk. It reported 51,478 total person-years at risk in the no-HRT group with 60 heart attacks occurring in total, as well as 54,309 person-years at risk in the HRT group with 30 heart attacks occurring in total. The table NHS below has one row for each person-year at risk. The two columns are 'HRT', recording whether it came from the HRT group (1) or no-HRT group (0), and 'Heart Attack', recording whether the participant had a heart attack that year (1 for yes, 0 for no)."
   ]
  },
  {
   "cell_type": "code",
   "execution_count": null,
   "metadata": {
    "id": "l8b7bNWRa6q_"
   },
   "outputs": [],
   "source": [
    "NHS = Table.read_table('data/NHS.csv')\n",
    "NHS.show(3)"
   ]
  },
  {
   "cell_type": "markdown",
   "metadata": {
    "id": "eUSA_VVRa6q_"
   },
   "source": [
    "Using the NHS data, we can now conduct a hypothesis test to investigate the relationship between HRT and risk of CHD. We'll set up the test as follows:\n",
    "\n",
    "> **Null Hypothesis:** HRT does not affect the risk of CHD, and the true relative risk is equal to 1. Any deviation is due to random chance\n",
    "\n",
    "> **Alternative Hypothesis:** HRT decreases the risk of CHD, and the true relative risk is less than 1.\n",
    "\n",
    "> **Test Statistic:** Relative risk of CHD between post-menopausal women receiving HRT and post-menopausal women not receiving HRT (the definition of relative risk is repeated here for your convenience):\n",
    "\n",
    "$$\\text{Relative Risk} = \\frac{\\text{Hazard Rate(Treatment Group)}}{\\text{Hazard Rate(Control Group)}}$$\n",
    "\n",
    "*Note: Remember that we assume, under the null, that the two populations are derived from the same much larger population - under this assumption $\\text{Hazard Rate(Treatment Group)} = \\text{Hazard Rate(Control Group)}$. After simulation, we test this hypothesis by viewing the relative_risk for our simulated samples.*"
   ]
  },
  {
   "cell_type": "markdown",
   "metadata": {
    "deletable": false,
    "editable": false,
    "id": "DEgjpZh0a6q_"
   },
   "source": [
    "**Question 4.** Fill in the missing code below to write a function called `relative_risk` that takes in a table with the column labels `HRT` and `Heart Attack`, and computes the sample relative risk as an estimate of the population relative risk. Do *not* round your answer.\n",
    "\n",
    "<!--\n",
    "BEGIN QUESTION\n",
    "points: 0\n",
    "name: q3_1_4\n",
    "manual: false\n",
    "-->"
   ]
  },
  {
   "cell_type": "code",
   "execution_count": null,
   "metadata": {
    "id": "GBYTkh1Wa6q_"
   },
   "outputs": [],
   "source": [
    "def relative_risk(tbl):\n",
    "    \"\"\"Return the ratio of the hazard rates (events per person-year) for the two groups\"\"\"\n",
    "    ...\n",
    "\n",
    "relative_risk(NHS)"
   ]
  },
  {
   "cell_type": "code",
   "execution_count": null,
   "metadata": {
    "deletable": false,
    "editable": false
   },
   "outputs": [],
   "source": [
    "grader.check(\"q3_1_4\")"
   ]
  },
  {
   "cell_type": "markdown",
   "metadata": {
    "deletable": false,
    "editable": false,
    "id": "z33LA0LUa6q_"
   },
   "source": [
    "**Question 5.** Fill in the function `one_bootstrap_rr` so that it generates one bootstrap sample and computes the relative risk. Assign `bootstrap_rrs` to 10 (yes, only 10; the code is slow!) estimates of the population relative risk.\n",
    "\n",
    "*Note:* The cell may take a few seconds to run.\n",
    "\n",
    "\n",
    "<!--\n",
    "BEGIN QUESTION\n",
    "points: 0\n",
    "name: q3_1_5\n",
    "manual: false\n",
    "-->"
   ]
  },
  {
   "cell_type": "code",
   "execution_count": null,
   "metadata": {
    "id": "aDXgEgPKa6q_"
   },
   "outputs": [],
   "source": [
    "def one_bootstrap_rr():\n",
    "     return ...\n",
    "     \n",
    "bootstrap_rrs = ...\n",
    "for i in np.arange(10):\n",
    "    new_bootstrap_rr = ...\n",
    "    bootstrap_rrs = ..."
   ]
  },
  {
   "cell_type": "code",
   "execution_count": null,
   "metadata": {
    "deletable": false,
    "editable": false
   },
   "outputs": [],
   "source": [
    "grader.check(\"q3_1_5\")"
   ]
  },
  {
   "cell_type": "markdown",
   "metadata": {
    "deletable": false,
    "editable": false,
    "id": "yiyo6qzJa6q_"
   },
   "source": [
    "**Question 6.** The file `bootstrap_rrs.csv` contains a one-column table with 2001 saved bootstrapped relative risks. Use these bootstrapped values to compute a 95% confidence interval, storing the left endpoint as `ci_left` and the right endpoint as `ci_right`. \n",
    "\n",
    "Note that our method isn't exactly the same as the method employed by the study authors to get their confidence interval.\n",
    "\n",
    "\n",
    "<!--\n",
    "BEGIN QUESTION\n",
    "points: 0\n",
    "name: q3_1_6\n",
    "manual: false\n",
    "-->"
   ]
  },
  {
   "cell_type": "code",
   "execution_count": null,
   "metadata": {
    "id": "FNZ2WvHTa6rA"
   },
   "outputs": [],
   "source": [
    "bootstrap_rrs_from_tbl = Table.read_table('data/bootstrap_rrs.csv').column(0)\n",
    "ci_left = ...\n",
    "ci_right = ...\n",
    "\n",
    "print(\"Middle 95% of bootstrappped relative risks: [{:f}, {:f}]\".format(ci_left, ci_right))"
   ]
  },
  {
   "cell_type": "code",
   "execution_count": null,
   "metadata": {
    "deletable": false,
    "editable": false
   },
   "outputs": [],
   "source": [
    "grader.check(\"q3_1_6\")"
   ]
  },
  {
   "cell_type": "markdown",
   "metadata": {
    "id": "SkPRkLvCa6rE"
   },
   "source": [
    "The code below plots the confidence interval on top of the bootstrap histogram."
   ]
  },
  {
   "cell_type": "code",
   "execution_count": null,
   "metadata": {
    "id": "YZTRNNo3a6rE"
   },
   "outputs": [],
   "source": [
    "# Just run this cell\n",
    "Table().with_column(\"Relative Risks\", bootstrap_rrs_from_tbl).hist()\n",
    "plots.plot([ci_left, ci_right], [.05,.05], color=\"gold\");"
   ]
  },
  {
   "cell_type": "markdown",
   "metadata": {
    "deletable": false,
    "editable": false,
    "id": "quYa35VPa6rE"
   },
   "source": [
    "**Question 7.** The abstract of the original paper gives a 95% confidence interval of [0.3, 0.8] for the relative risk. Which of the following statements can be justified based on that confidence interval? \n",
    "\n",
    "1. There is a 95% chance the relative risk is between 0.3 and 0.8.\n",
    "2. If we used a P-value cutoff of 5%, we would reject the null hypothesis that HRT does not affect the risk of CHD.\n",
    "3. If we redo the procedure that generated the interval [0.3, 0.8] on a fresh sample of the same size, there is a 95% chance it will include the true relative risk.\n",
    "4. There is between a 30% and 80% chance that any woman will suffer a heart attack during the study period.\n",
    "\n",
    "\n",
    "Assign ci_statements to an array of integer(s) corresponding to the correct answer(s).\n",
    "\n",
    "\n",
    "<!--\n",
    "BEGIN QUESTION\n",
    "points: 0\n",
    "name: q3_1_7\n",
    "manual: false\n",
    "-->"
   ]
  },
  {
   "cell_type": "code",
   "execution_count": null,
   "metadata": {
    "id": "xW67rL41a6rF"
   },
   "outputs": [],
   "source": [
    "ci_statements = ..."
   ]
  },
  {
   "cell_type": "code",
   "execution_count": null,
   "metadata": {
    "deletable": false,
    "editable": false
   },
   "outputs": [],
   "source": [
    "grader.check(\"q3_1_7\")"
   ]
  },
  {
   "cell_type": "markdown",
   "metadata": {
    "deletable": false,
    "editable": false,
    "id": "yeuXX75qa6rF"
   },
   "source": [
    "<!-- BEGIN QUESTION -->\n",
    "\n",
    "**Question 8.** What can you conclude from this test? Was hormone replacement therapy associated with an increased or decreased risk of heart attacks? Can we say that HRT caused an change in the risk of heart attacks? Explain your reasoning in 2-4 sentences. \n",
    "\n",
    "<!--\n",
    "BEGIN QUESTION\n",
    "name: q3_1_8\n",
    "points: 0\n",
    "manual: true\n",
    "-->\n",
    "<!-- EXPORT TO PDF -->"
   ]
  },
  {
   "cell_type": "markdown",
   "metadata": {
    "export_pdf": true,
    "id": "bj5w2ck_a6rF"
   },
   "source": [
    "*Write your answer here, replacing this text.*"
   ]
  },
  {
   "cell_type": "markdown",
   "metadata": {
    "id": "kIMiLKL4a6rF"
   },
   "source": [
    "Partly as a result of evidence from the NHS and other observational studies that drew similar conclusions, HRT drugs became a very popular preventive treatment for doctors to prescribe to post-menopausal woman. Even though there were known or suspected risks to the treatment (such as increasing the risk of invasive breast cancer), it was thought that the reduction in heart disease risk was well worth it."
   ]
  },
  {
   "cell_type": "markdown",
   "metadata": {
    "id": "Gu49fEw7a6rG"
   },
   "source": [
    "### Section 2: The Heart and Estrogen-Progestin Replacement Study"
   ]
  },
  {
   "cell_type": "markdown",
   "metadata": {
    "id": "NQnwTbsea6rG"
   },
   "source": [
    "The Heart and Estrogen-Progestin Replacement Study (HERS) was a large randomized controlled trial carried out by the Women's Health Initiative, which sought to verify whether HRT drugs were as effective as the observational studies seemed to suggest. 2,763 women with a history of heart disease were selected and randomly assigned to receive the treatment (daily estrogen pills) or a placebo pill that looked identical to the treatment. Of the 2763 women participating, 1380 were assigned to the treatment condition and 1383 to the control. They were followed for an average of three years and the number of heart attacks in the two groups was compared."
   ]
  },
  {
   "cell_type": "markdown",
   "metadata": {
    "id": "drsH4nbha6rG"
   },
   "source": [
    "The main results table from the HERS study [Hulley et al. (1998)](https://jamanetwork.com/journals/jama/fullarticle/187879) is reproduced here:\n",
    "\n",
    "<img src=\"data/HERS-table.png\" width=500>"
   ]
  },
  {
   "cell_type": "markdown",
   "metadata": {
    "id": "tSABeMBsa6rG"
   },
   "source": [
    "For this study, constructed our own table from scratch based on the results given above. The results are contained in the table `HERS` that has one row for each woman in the trial and two columns: `HRT`, which is 1 if she was assigned to treatment and 0 otherwise, and `CHD`, which is 1 if she suffered a Primary CHD (Coronary Heart Disease) event and 0 otherwise.\n",
    "\n",
    "Run the cell below to view the results from the HERS study."
   ]
  },
  {
   "cell_type": "code",
   "execution_count": null,
   "metadata": {
    "id": "BhMZd_0Da6rG"
   },
   "outputs": [],
   "source": [
    "num_control = 1383 \n",
    "num_treatment = 1380\n",
    "\n",
    "num_control_chd = 176\n",
    "num_treatment_chd = 172\n",
    "\n",
    "hrt = np.append(np.zeros(num_control), np.ones(num_treatment))\n",
    "chd_control = np.append(np.zeros(num_control - num_control_chd), np.ones(num_control_chd))\n",
    "chd_treatment = np.append(np.zeros(num_treatment - num_treatment_chd), np.ones(num_treatment_chd))\n",
    "chd = np.append(chd_control, chd_treatment)\n",
    "\n",
    "HERS = Table().with_columns('HRT', hrt, 'CHD', chd)\n",
    "HERS.show(3)"
   ]
  },
  {
   "cell_type": "markdown",
   "metadata": {
    "deletable": false,
    "editable": false,
    "id": "mesaAQlfa6rG"
   },
   "source": [
    "<!-- END QUESTION -->\n",
    "\n",
    "**Question 1.** We would like to test the null hypothesis that the treatment (HRT) has no effect on the outcome (CHD), against the alternative hypothesis that the treatment does have an effect. What would be a good test statistic? \n",
    "\n",
    "Assign `good_ts` to an array of number(s) corresponding to the correct answer(s). Keep in mind that this was the first clinical trial to be done on this subject; as a result, it was not clear at the time whether any effect would be positive or negative.\n",
    "\n",
    "\n",
    "1. The absolute difference between 1 and the relative risk.\n",
    "2. The average CHD rate for the treatment group.\n",
    "3. 10 times the absolute difference between the control and treatment groups' average CHD rates.\n",
    "\n",
    "<!--\n",
    "BEGIN QUESTION\n",
    "points: 0\n",
    "name: q3_2_1\n",
    "manual: false\n",
    "-->"
   ]
  },
  {
   "cell_type": "code",
   "execution_count": null,
   "metadata": {
    "id": "mPUrlQEra6rG"
   },
   "outputs": [],
   "source": [
    "good_ts = ..."
   ]
  },
  {
   "cell_type": "code",
   "execution_count": null,
   "metadata": {
    "deletable": false,
    "editable": false
   },
   "outputs": [],
   "source": [
    "grader.check(\"q3_2_1\")"
   ]
  },
  {
   "cell_type": "markdown",
   "metadata": {
    "deletable": false,
    "editable": false,
    "id": "SNaIT3Y9a6rH"
   },
   "source": [
    "**Question 2.** We'll use distance (absolute difference) between average CHD rates as our test statistic. \n",
    "\n",
    "Write a function called `hers_test_statistic` to calculate this test statistic on a table with columns `HRT` and `CHD`. Use this function to calculate the observed test statistic, and assign it to `observed_HERS_test_statistic`.\n",
    "\n",
    "Think about what values of the test statistic support the null versus the alternative hypothesis. You'll use this information to compute the p-value later in this section.\n",
    "\n",
    "<!--\n",
    "BEGIN QUESTION\n",
    "points: 0\n",
    "name: q3_2_2\n",
    "manual: false\n",
    "-->"
   ]
  },
  {
   "cell_type": "code",
   "execution_count": null,
   "metadata": {
    "id": "0OenECuha6rH"
   },
   "outputs": [],
   "source": [
    "def HERS_test_statistic(tbl):\n",
    "    \"\"\"Test statistic: Distance between the average responses\"\"\"\n",
    "    averages = ...\n",
    "    return ...\n",
    "observed_HERS_test_statistic = ...\n",
    "observed_HERS_test_statistic"
   ]
  },
  {
   "cell_type": "code",
   "execution_count": null,
   "metadata": {
    "deletable": false,
    "editable": false
   },
   "outputs": [],
   "source": [
    "grader.check(\"q3_2_2\")"
   ]
  },
  {
   "cell_type": "markdown",
   "metadata": {
    "deletable": false,
    "editable": false,
    "id": "QHyY8YDva6rH"
   },
   "source": [
    "**Question 3.** Write a function called `simulate_one_HERS_statistic` to simulate one value of the test statistic under the null hypothesis. Make sure you're shufflling the labels `HRT`.\n",
    "\n",
    "Then, use the function to repeatedly sample the null hypothesis 1000 times and compute the test statistic each time. The cell may take a few seconds to run.\n",
    "\n",
    "<!--\n",
    "BEGIN QUESTION\n",
    "points: 0\n",
    "name: q3_2_3\n",
    "manual: false\n",
    "-->"
   ]
  },
  {
   "cell_type": "code",
   "execution_count": null,
   "metadata": {
    "id": "-gzdaF2Pa6rH"
   },
   "outputs": [],
   "source": [
    "def simulate_one_HERS_statistic():\n",
    "    ...\n",
    "HERS_test_statistics = ...\n",
    "for i in np.arange(1000):\n",
    "    new_HERS_statistic = ...\n",
    "    HERS_test_statistics = ..."
   ]
  },
  {
   "cell_type": "code",
   "execution_count": null,
   "metadata": {
    "deletable": false,
    "editable": false
   },
   "outputs": [],
   "source": [
    "grader.check(\"q3_2_3\")"
   ]
  },
  {
   "cell_type": "markdown",
   "metadata": {
    "id": "S7D97uxSa6rH"
   },
   "source": [
    "The code below generates a histogram of the simulated test statistics along with your test statistic:"
   ]
  },
  {
   "cell_type": "code",
   "execution_count": null,
   "metadata": {
    "id": "paXGZQ1sa6rH"
   },
   "outputs": [],
   "source": [
    "Table().with_column('Simulated test statistics', HERS_test_statistics).hist(bins=np.arange(0,.04,.003))\n",
    "plots.scatter(HERS_test_statistic(HERS), 0, color='red', s=30);"
   ]
  },
  {
   "cell_type": "markdown",
   "metadata": {
    "deletable": false,
    "editable": false,
    "id": "jLMyzZo_a6rI"
   },
   "source": [
    "**Question 4.** Compute the P-value for your hypothesis test and assign it to `HERS_pval`. \n",
    "\n",
    "<!--\n",
    "BEGIN QUESTION\n",
    "points: 0\n",
    "name: q3_2_4\n",
    "manual: false\n",
    "-->"
   ]
  },
  {
   "cell_type": "code",
   "execution_count": null,
   "metadata": {
    "id": "D-9o-z3Ca6rI"
   },
   "outputs": [],
   "source": [
    "HERS_pval = ...\n",
    "HERS_pval"
   ]
  },
  {
   "cell_type": "code",
   "execution_count": null,
   "metadata": {
    "deletable": false,
    "editable": false
   },
   "outputs": [],
   "source": [
    "grader.check(\"q3_2_4\")"
   ]
  },
  {
   "cell_type": "markdown",
   "metadata": {
    "id": "mVZ6975va6rI"
   },
   "source": [
    "In part 3, we gave you 2001 bootstrapped relative risks. In the context of the HERS trial, relative risk is now defined as the ratio of the probability that a given woman in the treatment group will have CHD over the study period divided by the probability that a given woman in the control group will have CHD over the study period.\n",
    "\n",
    "We plot the histogram of bootstrapped relative risks, along with a confidence interval representing the middle 95% of that histogram:\n",
    "<img src=\"bootstrap-HERS.png\" width=400>"
   ]
  },
  {
   "cell_type": "markdown",
   "metadata": {
    "deletable": false,
    "editable": false,
    "id": "XpBnf3Vqa6rI"
   },
   "source": [
    "<!-- BEGIN QUESTION -->\n",
    "\n",
    "**Question 5.** Based on the results for this experiment using HERS data, can we reject our null hypothesis that HRT has no effect on CHD risk? Explain why or why not using both the p-value and 95% confidence interval.\n",
    "\n",
    "*Hint*: If you're not sure how to interpret relative risks, go back to Question 3 of Nurses' Health Study section.\n",
    "\n",
    "\n",
    "<!--\n",
    "BEGIN QUESTION\n",
    "points: 0\n",
    "name: q3_2_5\n",
    "manual: true\n",
    "-->\n",
    "<!-- EXPORT TO PDF -->"
   ]
  },
  {
   "cell_type": "markdown",
   "metadata": {},
   "source": [
    "_Type your answer here, replacing this text._"
   ]
  },
  {
   "cell_type": "markdown",
   "metadata": {
    "id": "mW_PJjjda6rI"
   },
   "source": [
    "<!-- END QUESTION -->\n",
    "\n",
    "\n",
    "\n",
    "The Heart and Estrogen-Progestin Replacement Study found that HRT did not have a significant impact on a woman's risk of CHD. These findings contradicted the results of the Nurses' Heart study, challenging the efficacy of a treatment that had become the standard of care for heart disease prevention. \n",
    "\n",
    "The HERS study authors put forward a possible answer regarding why the NHS study might be biased:\n",
    "> However, the observed association between estrogen therapy and reduced CHD risk might be attributable to selection bias if women who choose to take hormones are healthier and have a more favorable CHD profile than those who do not. Observational studies cannot resolve this uncertainty.\n",
    "\n",
    "**Selection bias** occurs in observational studies when there is a systematic difference between participants that receive a treatment and participants that do not receive a treatment. When this type of bias is present, the observed treatment effect might be a result of an unmeasured confounding variable."
   ]
  },
  {
   "cell_type": "markdown",
   "metadata": {
    "deletable": false,
    "editable": false,
    "id": "lQ0DXfo6a6rI"
   },
   "source": [
    "**Question 6:** If women who choose to take hormones are healthier to begin with than women who choose not to, why might that systematically bias the results of observational studies like the NHS? Would we expect observational studies to overestimate or underestimate the protective effect of HRT?\n",
    "\n",
    "\n",
    "<!--\n",
    "BEGIN QUESTION\n",
    "points: 0\n",
    "name: q3_2_6\n",
    "manual: false\n",
    "-->\n",
    "<!-- EXPORT TO PDF -->"
   ]
  },
  {
   "cell_type": "markdown",
   "metadata": {},
   "source": [
    "_Type your answer here, replacing this text._"
   ]
  },
  {
   "cell_type": "markdown",
   "metadata": {
    "id": "9Ia_1BJra6rJ"
   },
   "source": [
    "### Further reading\n",
    "\n",
    "If you're interested in learning more, you can check out these articles:\n",
    "\n",
    "* [Origin story of the Framingham Heart Study](https://www.ncbi.nlm.nih.gov/pmc/articles/PMC1449227/)\n",
    "* [NYT article on the Nurses' Health Study and the HERS study](https://www.nytimes.com/2003/04/22/science/hormone-studies-what-went-wrong.html)"
   ]
  },
  {
   "cell_type": "markdown",
   "metadata": {
    "id": "bRByTzsXa6rJ"
   },
   "source": [
    "## Part 4: Diet and Cardiovascular Disease"
   ]
  },
  {
   "cell_type": "markdown",
   "metadata": {
    "id": "H6rCMp1ha6rJ"
   },
   "source": [
    "To establish a causal link between saturated fat intake, serum cholesterol, and heart disease, a group of doctors in the US established the National Heart-Diet Study. The study was based in 6 centers: Baltimore, Boston, Chicago, Minneapolis-St. Paul, Oakland, and Faribault, MN. The first 5 centers recruited volunteers from the local population: volunteers and their families were asked to adjust their diet to include more or less saturated fat.\n",
    "\n",
    "You may already have a strong intuition about what the doctors concluded in their findings, but the evidence from the trial was surprisingly complex.\n",
    "\n",
    "The sixth center was organized by Dr. Ivan Frantz, and its study was known as the Minnesota Coronary Experiment. Dr. Frantz was a strong proponent of reducing saturated fats to prevent death from heart disease. He believed so strongly in the idea that he placed his household on a strict diet very low in saturated fats. The main difference between the Minnesota Coronary Experiment and the rest of the National Diet-Heart Study was the setting. While the other centers in the study looked at volunteers, Dr. Frantz conducted his study at Faribault State Hospital, which housed patients who were institutionalized due to disabilities or mental illness.\n",
    "\n",
    "In this institution, the subjects were randomly divided into two equal groups: half of the subjects, the **control group**, were fed meals cooked with saturated fats, and the other half, the **diet group**, were fed meals cooked with polyunsaturated fats. For example, the diet group's oils were replaced with corn oils and their butter was replaced with margarine. The subjects did not know which food they were getting, to avoid any potential bias or placebo effect. This type of study is known as a **blind** study.\n",
    "\n",
    "Although standards for informed consent in participation weren't as strict then as they are today, the study was described as follows:\n",
    "\n",
    "*No consent forms were required because the study diets were considered to be acceptable as house diets and the testing was considered to contribute to better patient care.  Prior to beginning the diet phase, the project was explained and sample foods were served. Residents were given the opportunity to decline participation.*\n",
    "\n",
    "Despite the level of detail and effort in the study, the results of the study were never extensively examined until the late 21st century. Over 40 years after the data were collected, Dr. Christopher Ramsden heard about the experiment, and asked Dr. Frantz's son Robert to uncover the files in the Frantz family home's dusty basement. You can learn more about the story of how the data was recovered on the [Revisionist History podcast](http://revisionisthistory.com/episodes/20-the-basement-tapes) or in [Scientific American magazine](https://www.scientificamerican.com/article/records-found-in-dusty-basement-undermine-decades-of-dietary-advice/)."
   ]
  },
  {
   "cell_type": "markdown",
   "metadata": {
    "deletable": false,
    "editable": false,
    "id": "1iFt-c40a6rJ"
   },
   "source": [
    "<!-- BEGIN QUESTION -->\n",
    "\n",
    "**Question 1:** While the data from such a study may be useful scientifically, it also raises major ethical concerns. Describe at least one ethical problem with the study conducted at Faribault State Hospital.\n",
    "\n",
    "*Hint*: There isn't necessarily a single right or wrong answer to this question. If you're not sure, some areas of consideration may be the study organizers' selection of participants for the study, as well as their justification for not using consent forms. You could also ask yourself how the project might have been explained to the patients prior to the diet phase, and to what degree were they capable of consent.\n",
    "\n",
    "<!--\n",
    "BEGIN QUESTION\n",
    "points: 0\n",
    "name: q4_1\n",
    "manual: true\n",
    "-->\n",
    "<!-- EXPORT TO PDF -->"
   ]
  },
  {
   "cell_type": "markdown",
   "metadata": {},
   "source": [
    "_Type your answer here, replacing this text._"
   ]
  },
  {
   "cell_type": "markdown",
   "metadata": {
    "id": "RjTdcjnUa6rK"
   },
   "source": [
    "<!-- END QUESTION -->\n",
    "\n",
    "\n",
    "\n",
    "In recent years, poor treatment of patients at Faribault State Hospital (and other similar institutions in Minnesota) has come to light: the state has recently [changed patients' gravestones from numbers to their actual names](https://www.tcdailyplanet.net/minnesota-saying-sorry-treatment-persons-disabilities/), and [apologized for inhumane treatment of patients](https://www.tcdailyplanet.net/minnesota-saying-sorry-treatment-persons-disabilities/).|"
   ]
  },
  {
   "cell_type": "markdown",
   "metadata": {
    "id": "thFP9ABTa6rK"
   },
   "source": [
    "### The Data"
   ]
  },
  {
   "cell_type": "markdown",
   "metadata": {
    "id": "Qm1HWxNLa6rK"
   },
   "source": [
    "We want to see whether or not death rates were reduced on low saturated fat diet. Unfortunately, the data for each individual in the 1968 study is not available; only summary statistics are available.  \n",
    "\n",
    "The following table is a summarized version of the data collected in the experiment. "
   ]
  },
  {
   "cell_type": "code",
   "execution_count": null,
   "metadata": {
    "id": "3lpSKb8da6rK"
   },
   "outputs": [],
   "source": [
    "mortality_summary = Table.read_table('data/mortality_summary.csv')\n",
    "mortality_summary"
   ]
  },
  {
   "cell_type": "markdown",
   "metadata": {
    "id": "gWbDq8QBa6rK"
   },
   "source": [
    "In order to test whether eating diet actually reduced death rates, we need to synthetically create a table with one row for each participant in the study. \n",
    "\n",
    "We want to expand the `mortality_summary` table to create a row for each study participant. `minnesota_data` is a table with four columns: \"Age\", \"Condition\", \"Participated\" and \"Died\". Each row contains a specific patient and has their age group and condition as specified in the `mortality_summary` table, a `True` in the \"Participated\" column (since everyone participated in the experiment), and either a `True` or `False` in the \"Died\" column, depending on if they are alive or dead. \n",
    "\n",
    "Run the cell below to view the study data that has been created from the summary statistics. "
   ]
  },
  {
   "cell_type": "code",
   "execution_count": null,
   "metadata": {
    "id": "Atz38he8a6rK"
   },
   "outputs": [],
   "source": [
    "minnesota_data = Table(['Age', 'Condition', 'Died', 'Participated'])\n",
    "for row in mortality_summary.rows:\n",
    "    count = np.arange(0, row.item('Total'))\n",
    "    t = Table().with_column('Died', count < row.item('Deaths'))\n",
    "    t = t.with_column('Age', row.Age)\n",
    "    t = t.with_column('Condition', row.Condition)\n",
    "    t = t.with_column('Participated', True)\n",
    "    minnesota_data.append(t)\n",
    "minnesota_data"
   ]
  },
  {
   "cell_type": "markdown",
   "metadata": {
    "id": "sbyimg6pa6rK"
   },
   "source": [
    "We'll need to look at the breakdown for death rates for both the treatment (diet) and control groups."
   ]
  },
  {
   "cell_type": "markdown",
   "metadata": {
    "deletable": false,
    "editable": false,
    "id": "qhvry6c3a6rK"
   },
   "source": [
    "**Question 2:** Create a table named `summed_mn_data`, with three columns and two rows. The three columns should be \"Condition\", \"Died sum\", and \"Participated sum\". There should be one row for the diet group and one row for the control group, and each row should encode the total number of people who participated in that group and the total number of people who died in that group. \n",
    "\n",
    "<!--\n",
    "BEGIN QUESTION\n",
    "points: 0\n",
    "name: q4_2\n",
    "manual: false\n",
    "-->"
   ]
  },
  {
   "cell_type": "code",
   "execution_count": null,
   "metadata": {
    "id": "r3wIL-6ma6rL"
   },
   "outputs": [],
   "source": [
    "summed_mn_data = ...\n",
    "summed_mn_data"
   ]
  },
  {
   "cell_type": "code",
   "execution_count": null,
   "metadata": {
    "deletable": false,
    "editable": false
   },
   "outputs": [],
   "source": [
    "grader.check(\"q4_2\")"
   ]
  },
  {
   "cell_type": "markdown",
   "metadata": {
    "id": "cTM0s18Ra6rL"
   },
   "source": [
    "### Running a Hypothesis Test"
   ]
  },
  {
   "cell_type": "markdown",
   "metadata": {
    "id": "DxOyZLc6a6rL"
   },
   "source": [
    "Using the `minnesota_data` data table, we want to explore how change in diet affects death rates among the subjects"
   ]
  },
  {
   "cell_type": "markdown",
   "metadata": {
    "deletable": false,
    "editable": false,
    "id": "yKIzy4Qga6rL"
   },
   "source": [
    "<!-- BEGIN QUESTION -->\n",
    "\n",
    "**Question 3:** Set up a null hypothesis and an alternative hypothesis that we can use to answer whether or not the unsaturated fat diet causes different rates of death in the two groups. We are interested in observing any change, not specifically an increase of decrease in death rates.\n",
    "\n",
    "<!--\n",
    "BEGIN QUESTION\n",
    "points: 0\n",
    "name: q4_3\n",
    "manual: true\n",
    "-->"
   ]
  },
  {
   "cell_type": "markdown",
   "metadata": {},
   "source": [
    "_Type your answer here, replacing this text._"
   ]
  },
  {
   "cell_type": "markdown",
   "metadata": {
    "deletable": false,
    "editable": false,
    "id": "5hoOi9NUa6rL"
   },
   "source": [
    "<!-- END QUESTION -->\n",
    "\n",
    "<!-- BEGIN QUESTION -->\n",
    "\n",
    "**Question 4:** In thinking of a test statistic, one researcher decides that the absolute difference in the number of people who died in the control group and the number of people who died in the diet group is a sufficient test statistic. Give one **specific** reason why this test statistic **will not** work. \n",
    "\n",
    "<!--\n",
    "BEGIN QUESTION\n",
    "points: 0\n",
    "name: q4_4\n",
    "manual: true\n",
    "-->"
   ]
  },
  {
   "cell_type": "markdown",
   "metadata": {},
   "source": [
    "_Type your answer here, replacing this text._"
   ]
  },
  {
   "cell_type": "markdown",
   "metadata": {
    "id": "ebDSmrv4a6rM"
   },
   "source": [
    "<!-- END QUESTION -->\n",
    "\n",
    "\n",
    "\n",
    "To combat the problem above, we instead decide to use the the absolute difference in hazard rates between the two groups as our test statistic. **The *hazard rate* is defined as the proportion of people who died in a specific group out of the total number who participated in the study from that group.**"
   ]
  },
  {
   "cell_type": "markdown",
   "metadata": {
    "deletable": false,
    "editable": false,
    "id": "PKJNZMJya6rM"
   },
   "source": [
    "**Question 5:** Define a new table `summed_mn_hazard_data` that contains the columns of `summed_mn_data` along with an additional column, `Hazard Rate`, that contains the hazard rates for each condition.\n",
    "\n",
    "<!--\n",
    "BEGIN QUESTION\n",
    "points: 0\n",
    "name: q4_5\n",
    "manual: false\n",
    "-->"
   ]
  },
  {
   "cell_type": "code",
   "execution_count": null,
   "metadata": {
    "id": "oIiBgayqa6rM"
   },
   "outputs": [],
   "source": [
    "summed_mn_hazard_data = ...\n",
    "summed_mn_hazard_data"
   ]
  },
  {
   "cell_type": "code",
   "execution_count": null,
   "metadata": {
    "deletable": false,
    "editable": false
   },
   "outputs": [],
   "source": [
    "grader.check(\"q4_5\")"
   ]
  },
  {
   "cell_type": "markdown",
   "metadata": {
    "deletable": false,
    "editable": false,
    "id": "5vl20QEka6rM"
   },
   "source": [
    "**Question 6:** Define a function `compute_hazard_difference` which takes in a table like `summed_mn_hazard_data` and returns the absolute difference between the hazard rates of the control group and the diet group. Use it to get the observed test statistic and assign it to `death_rate_observed_statistic`.\n",
    "\n",
    "<!--\n",
    "BEGIN QUESTION\n",
    "points: 0\n",
    "name: q4_6\n",
    "manual: false\n",
    "-->"
   ]
  },
  {
   "cell_type": "code",
   "execution_count": null,
   "metadata": {
    "id": "wswou_41a6rM"
   },
   "outputs": [],
   "source": [
    "def compute_hazard_difference(tbl):\n",
    "    ...\n",
    "\n",
    "death_rate_observed_statistic = compute_hazard_difference(summed_mn_hazard_data)\n",
    "death_rate_observed_statistic"
   ]
  },
  {
   "cell_type": "code",
   "execution_count": null,
   "metadata": {
    "deletable": false,
    "editable": false
   },
   "outputs": [],
   "source": [
    "grader.check(\"q4_6\")"
   ]
  },
  {
   "cell_type": "markdown",
   "metadata": {
    "deletable": false,
    "editable": false,
    "id": "MK3NPyPDa6rM"
   },
   "source": [
    "**Question 7:** We are now in a position to run a hypothesis test to help differentiate between our two hypothesis using our data. Define a function `complete_test` which takes in `tbl` a table like `minnesota_data`. It simulates samples and calculates the rate differences for these samples under the null hypothesis 100 times, and uses them to return a P-Value with respect to our observed data. Note that your function should use the values in `tbl` , and should not refer to `minnesota_table`!\n",
    "\n",
    "Hint: This is a very long, involved problem. Start by outlining the steps you'll need to execute in this function and address each separately. Small steps and comments will be very helpful. You've already written a lot of key steps!\n",
    "\n",
    "Note: Your code may take a couple of minutes to run.\n",
    "\n",
    "\n",
    "<!--\n",
    "BEGIN QUESTION\n",
    "points: 0\n",
    "name: q4_7\n",
    "manual: false\n",
    "-->"
   ]
  },
  {
   "cell_type": "code",
   "execution_count": null,
   "metadata": {
    "id": "GbXNAsKCa6rN"
   },
   "outputs": [],
   "source": [
    "def complete_test(t):\n",
    "    ...\n",
    "our_p_value = complete_test(minnesota_data)\n",
    "our_p_value"
   ]
  },
  {
   "cell_type": "code",
   "execution_count": null,
   "metadata": {
    "deletable": false,
    "editable": false
   },
   "outputs": [],
   "source": [
    "grader.check(\"q4_7\")"
   ]
  },
  {
   "cell_type": "markdown",
   "metadata": {
    "deletable": false,
    "editable": false,
    "id": "XzMtBLnJa6rN"
   },
   "source": [
    "**Question 8:** Using the P-Value above, can we conclude that the change in diet causes a difference in death rate? Assume a normal p-value cutoff of 0.05. Set `reject_null` to `True` if we reject the null hypothesis and `False` if we fail to reject the null hypothesis.\n",
    "\n",
    "\n",
    "<!--\n",
    "BEGIN QUESTION\n",
    "points: 0\n",
    "name: q4_8\n",
    "manual: false\n",
    "-->"
   ]
  },
  {
   "cell_type": "code",
   "execution_count": null,
   "metadata": {
    "id": "bPPqizSAa6rN"
   },
   "outputs": [],
   "source": [
    "reject_null = ...\n",
    "reject_null"
   ]
  },
  {
   "cell_type": "code",
   "execution_count": null,
   "metadata": {
    "deletable": false,
    "editable": false
   },
   "outputs": [],
   "source": [
    "grader.check(\"q4_8\")"
   ]
  },
  {
   "cell_type": "markdown",
   "metadata": {
    "id": "nv9JC-lua6rN"
   },
   "source": [
    "Congratulations! You have completed your own large scale case study into cause and effect surrounding one of the world's deadliest killers: cardiovascular disease. Your investigation has taken you through two important data sets and across decades of medical research.\n",
    "\n",
    "Before you submit your work, \n",
    "- **save the notebook** first (**`Save and Checkpoint`** from the `File` menu)\n",
    "- Then go up to the `Kernel` menu and select `Restart & Clear Output` (make sure the notebook is saved first, because otherwise, you will lose all your work!). \n",
    "- Now, go to `Cell -> Run All`. Carefully look through your notebook and verify that all computations execute correctly. You should see **no errors**; if there are any errors, make sure to correct them before you submit the notebook.\n",
    "- <span style=\"color:red\">The tests don't usually tell you that your answer is correct.</span> Take a look at the results that you are getting and verify that they match what is being asked and what you would expect to see.\n",
    "- Then, go to `File -> Download as -> Notebook` and download the notebook to your own computer.\n",
    "- Upload the notebook to [Gradescope](https://www.gradescope.com/) (remember to use your `@umail.ucsb.edu` address, _not_ `@ucsb.edu`)"
   ]
  },
  {
   "cell_type": "code",
   "execution_count": null,
   "metadata": {},
   "outputs": [],
   "source": []
  },
  {
   "cell_type": "markdown",
   "metadata": {
    "deletable": false,
    "editable": false
   },
   "source": [
    "---\n",
    "\n",
    "To double-check your work, the cell below will rerun all of the autograder tests."
   ]
  },
  {
   "cell_type": "code",
   "execution_count": null,
   "metadata": {
    "deletable": false,
    "editable": false
   },
   "outputs": [],
   "source": [
    "grader.check_all()"
   ]
  }
 ],
 "metadata": {
  "colab": {
   "name": "project2.ipynb",
   "provenance": []
  },
  "kernelspec": {
   "display_name": "Python 3",
   "language": "python",
   "name": "python3"
  },
  "language_info": {
   "codemirror_mode": {
    "name": "ipython",
    "version": 3
   },
   "file_extension": ".py",
   "mimetype": "text/x-python",
   "name": "python",
   "nbconvert_exporter": "python",
   "pygments_lexer": "ipython3",
   "version": "3.7.10"
  },
  "toc": {
   "base_numbering": 1,
   "nav_menu": {},
   "number_sections": true,
   "sideBar": true,
   "skip_h1_title": false,
   "title_cell": "Table of Contents",
   "title_sidebar": "Contents",
   "toc_cell": false,
   "toc_position": {},
   "toc_section_display": true,
   "toc_window_display": false
  }
 },
 "nbformat": 4,
 "nbformat_minor": 1
}
